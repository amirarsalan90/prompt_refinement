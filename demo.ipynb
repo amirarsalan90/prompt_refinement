{
 "cells": [
  {
   "cell_type": "code",
   "execution_count": 1,
   "metadata": {},
   "outputs": [],
   "source": [
    "from dotenv import load_dotenv\n",
    "from openai import OpenAI\n",
    "\n",
    "load_dotenv(\"env_variables.env\")\n",
    "client = OpenAI()"
   ]
  },
  {
   "cell_type": "code",
   "execution_count": 2,
   "metadata": {},
   "outputs": [],
   "source": [
    "from promptrefiner import AbstractLLM, PromptTrackerClass, OpenaiCommunicator"
   ]
  },
  {
   "cell_type": "code",
   "execution_count": 3,
   "metadata": {},
   "outputs": [],
   "source": [
    "###\n",
    "class LlamaCPPModel(AbstractLLM):\n",
    "    def __init__(self, base_url, api_key, temperature=0.1, max_tokens=200):\n",
    "        super().__init__()\n",
    "        self.temperature = temperature\n",
    "        self.max_tokens = max_tokens\n",
    "        from openai import OpenAI\n",
    "        self.client = OpenAI(base_url=base_url, api_key=api_key)\n",
    "        \n",
    "    def predict(self, input_text, system_prompt):\n",
    "        response = self.client.chat.completions.create(\n",
    "        model=\"mistral\",\n",
    "        messages=[\n",
    "            {\"role\": \"system\", \"content\": system_prompt},  # Update this as per your needs\n",
    "            {\"role\": \"user\", \"content\": input_text}\n",
    "        ],\n",
    "        temperature=self.temperature,\n",
    "        max_tokens=self.max_tokens,\n",
    "    )\n",
    "        llm_response = response.choices[0].message.content\n",
    "        return llm_response"
   ]
  },
  {
   "cell_type": "code",
   "execution_count": 4,
   "metadata": {},
   "outputs": [],
   "source": [
    "llamamodel = LlamaCPPModel(base_url=\"http://localhost:8000/v1\", api_key=\"sk-xxx\", temperature=0.1, max_tokens=400)"
   ]
  },
  {
   "cell_type": "code",
   "execution_count": null,
   "metadata": {},
   "outputs": [],
   "source": []
  },
  {
   "cell_type": "code",
   "execution_count": null,
   "metadata": {},
   "outputs": [],
   "source": []
  },
  {
   "cell_type": "code",
   "execution_count": 5,
   "metadata": {},
   "outputs": [],
   "source": [
    "###\n",
    "input_evaluation_1 = \"\"\"In an era where the digital expanse collided with the realm of human creativity, two figures stood at the forefront. Ada, with her prophetic vision, laid the groundwork for computational logic, while Banksy, shrouded in anonymity, painted the streets with social commentary. Amidst this, the debate over AI ethics, spearheaded by figures like Bostrom, questioned the trajectory of our technological companions. This period, marked by innovation and introspection, challenges us to ponder the relationship between creation and creator.\"\"\"\n",
    "\n",
    "input_evaluation_2 = \"\"\"As the digital revolution accelerated, two contrasting visions emerged. Musk's endeavors to colonize Mars signified humanity's boundless ambition, while Hawking's warnings about AI highlighted the existential risks of unbridled technological advancement. Amid these towering ambitions and cautions, the resurgence of environmentalism, led by figures like Thunberg, reminded us of our responsibilities to Earth. This dichotomy between reaching for the stars and preserving our home planet defines the modern dilemma.\"\"\"\n",
    "\n",
    "output_evaluation_1 = \"\"\"\n",
    "[\"Ada Lovelace: Computational logic\", \"Banksy: Social commentary through art\", \"Nick Bostrom: AI ethics\", \"Digital era: Innovation and introspection\", \"AI ethics: The debate over the moral implications of artificial intelligence\"]\n",
    "\"\"\"\n",
    "\n",
    "output_evaluation_2 = \"\"\"\n",
    "[\"Elon Musk: Colonization of Mars\", \"Stephen Hawking: Warnings about AI\", \"Greta Thunberg: Environmentalism\", \"Digital revolution: Technological advancement and existential risks\", \"Modern dilemma: Balancing ambition with environmental responsibility\"]\n",
    "\"\"\"\n"
   ]
  },
  {
   "cell_type": "code",
   "execution_count": 6,
   "metadata": {},
   "outputs": [],
   "source": [
    "input_evaluations = [input_evaluation_1, input_evaluation_2]\n",
    "output_evaluations = [output_evaluation_1, output_evaluation_2]"
   ]
  },
  {
   "cell_type": "code",
   "execution_count": 7,
   "metadata": {},
   "outputs": [],
   "source": [
    "###\n",
    "init_sys_prompt = \"\"\"You are an AI that receives an input text. Your task is to output a pythoning string where every strings is the name of a person with what they are associated with\"\"\"\n",
    "promptTracker = PromptTrackerClass(init_system_prompt = init_sys_prompt)\n",
    "promptTracker.add_evaluation_examples(input_evaluations, output_evaluations)\n",
    "#promptTracker.add_evaluation_examples(input_evaluation_2, output_evaluation_2)"
   ]
  },
  {
   "cell_type": "code",
   "execution_count": 8,
   "metadata": {},
   "outputs": [],
   "source": [
    "promptTracker.run_initial_prompt(llm_model=llamamodel)"
   ]
  },
  {
   "cell_type": "code",
   "execution_count": null,
   "metadata": {},
   "outputs": [],
   "source": []
  },
  {
   "cell_type": "code",
   "execution_count": 9,
   "metadata": {},
   "outputs": [
    {
     "name": "stdout",
     "output_type": "stream",
     "text": [
      "# Define the names and their associations\n",
      "ada = \"Ada, the visionary mathematician and computer scientist, laid the groundwork for computational logic.\"\n",
      "bostrom = \"Nick Bostrom, the philosopher, spearheaded the debate over AI ethics, questioning the trajectory of our technological companions.\"\n",
      "banksy = \"Banksy, the anonymous artist, painted the streets with social commentary in the digital and physical world.\"\n",
      "# Print out the Python strings\n",
      "print(ada)\n",
      "print(bostrom)\n",
      "print(banksy)\n",
      "\n"
     ]
    }
   ],
   "source": [
    "print(promptTracker.llm_responses[0][0])"
   ]
  },
  {
   "cell_type": "code",
   "execution_count": 10,
   "metadata": {},
   "outputs": [
    {
     "name": "stdout",
     "output_type": "stream",
     "text": [
      "```python\n",
      "persons = {\n",
      "    \"Musk, Elon\": \"space_exploration\",\n",
      "    \"Hawking, Stephen\": \"ai_ethics\",\n",
      "    \"Thunberg, Greta\": \"environmentalism\"\n",
      "}\n",
      "print(f\"Elon Musk is known for {persons['Musk, Elon']}\")\n",
      "print(f\"Stephen Hawking is known for {persons['Hawking, Stephen']}\")\n",
      "print(f\"Greta Thunberg is known for {persons['Thunberg, Greta']}\")\n",
      "```\n",
      "This Python code creates a dictionary called `persons` where each key-value pair represents a person and their associated field. The `print` statements then display the person's name and their field of expertise.\n"
     ]
    }
   ],
   "source": [
    "print(promptTracker.llm_responses[0][1])"
   ]
  },
  {
   "cell_type": "code",
   "execution_count": 11,
   "metadata": {},
   "outputs": [],
   "source": [
    "openai_communicator = OpenaiCommunicator(client=client, openai_model_code=\"gpt-4-0125-preview\")"
   ]
  },
  {
   "cell_type": "code",
   "execution_count": 12,
   "metadata": {},
   "outputs": [],
   "source": [
    "openai_communicator.refine_system_prompt(prompttracker=promptTracker, llm_model=llamamodel, number_of_iterations=3)"
   ]
  },
  {
   "cell_type": "code",
   "execution_count": null,
   "metadata": {},
   "outputs": [],
   "source": []
  },
  {
   "cell_type": "code",
   "execution_count": 13,
   "metadata": {},
   "outputs": [],
   "source": [
    "import textwrap"
   ]
  },
  {
   "cell_type": "code",
   "execution_count": 14,
   "metadata": {},
   "outputs": [
    {
     "name": "stdout",
     "output_type": "stream",
     "text": [
      "You are an AI that receives an input text. Your task is to output a pythoning string where every\n",
      "strings is the name of a person with what they are associated with\n"
     ]
    }
   ],
   "source": [
    "print(textwrap.fill(promptTracker.llm_system_prompts[0], width=100))"
   ]
  },
  {
   "cell_type": "code",
   "execution_count": 20,
   "metadata": {},
   "outputs": [
    {
     "name": "stdout",
     "output_type": "stream",
     "text": [
      "# Define the names and their associations ada = \"Ada, the visionary mathematician and computer\n",
      "scientist, laid the groundwork for computational logic.\" bostrom = \"Nick Bostrom, the philosopher,\n",
      "spearheaded the debate over AI ethics, questioning the trajectory of our technological companions.\"\n",
      "banksy = \"Banksy, the anonymous artist, painted the streets with social commentary in the digital\n",
      "and physical world.\" # Print out the Python strings print(ada) print(bostrom) print(banksy)\n"
     ]
    }
   ],
   "source": [
    "print(textwrap.fill(promptTracker.llm_responses[0][0], width=100))"
   ]
  },
  {
   "cell_type": "code",
   "execution_count": 21,
   "metadata": {},
   "outputs": [
    {
     "name": "stdout",
     "output_type": "stream",
     "text": [
      "```python persons = {     \"Musk, Elon\": \"space_exploration\",     \"Hawking, Stephen\": \"ai_ethics\",\n",
      "\"Thunberg, Greta\": \"environmentalism\" } print(f\"Elon Musk is known for {persons['Musk, Elon']}\")\n",
      "print(f\"Stephen Hawking is known for {persons['Hawking, Stephen']}\") print(f\"Greta Thunberg is known\n",
      "for {persons['Thunberg, Greta']}\") ``` This Python code creates a dictionary called `persons` where\n",
      "each key-value pair represents a person and their associated field. The `print` statements then\n",
      "display the person's name and their field of expertise.\n"
     ]
    }
   ],
   "source": [
    "print(textwrap.fill(promptTracker.llm_responses[0][1], width=100))"
   ]
  },
  {
   "cell_type": "code",
   "execution_count": null,
   "metadata": {},
   "outputs": [],
   "source": []
  },
  {
   "cell_type": "code",
   "execution_count": null,
   "metadata": {},
   "outputs": [],
   "source": []
  },
  {
   "cell_type": "code",
   "execution_count": 17,
   "metadata": {},
   "outputs": [
    {
     "name": "stdout",
     "output_type": "stream",
     "text": [
      "You are an AI designed to analyze text and extract key figures along with their primary associations\n",
      "or contributions. Your output should be a list of strings, each string representing a person or a\n",
      "concept followed by a colon and a brief description of their association or contribution. The\n",
      "description should be concise and to the point. Avoid generating code or detailed explanations.\n",
      "Focus on identifying the most relevant figures and concepts mentioned in the text and their succinct\n",
      "associations. Here are three examples to guide your behavior:  Example 1: Input: \"In the digital\n",
      "age, Ada Lovelace's work laid the groundwork for modern computing, while Banksy's art offers social\n",
      "commentary.\" Output: [\"Ada Lovelace: Modern computing\", \"Banksy: Social commentary\"]  Example 2:\n",
      "Input: \"Elon Musk's ambition to colonize Mars contrasts with Stephen Hawking's warnings about AI,\n",
      "highlighting a modern dilemma.\" Output: [\"Elon Musk: Colonization of Mars\", \"Stephen Hawking:\n",
      "Warnings about AI\", \"Modern dilemma: Ambition vs. caution\"]  Example 3: Input: \"The debate over AI\n",
      "ethics, led by figures like Nick Bostrom, raises questions about the future of technology.\" Output:\n",
      "[\"Nick Bostrom: AI ethics\", \"AI ethics: Future of technology\"]\n"
     ]
    }
   ],
   "source": [
    "print(textwrap.fill(promptTracker.llm_system_prompts[1], width=100))"
   ]
  },
  {
   "cell_type": "code",
   "execution_count": 18,
   "metadata": {},
   "outputs": [
    {
     "name": "stdout",
     "output_type": "stream",
     "text": [
      "[\"Ada: Prophetic vision, groundwork for computational logic\", \"Banksy: Social commentary through\n",
      "art\", \"AI ethics: Questioning the trajectory of technological companions\", \"Figures like Bostrom:\n",
      "Leading the debate\"]\n"
     ]
    }
   ],
   "source": [
    "print(textwrap.fill(promptTracker.llm_responses[1][0], width=100))"
   ]
  },
  {
   "cell_type": "code",
   "execution_count": 19,
   "metadata": {},
   "outputs": [
    {
     "name": "stdout",
     "output_type": "stream",
     "text": [
      "[\"Elon Musk: Colonization of Mars\", \"Stephen Hawking: Warnings about AI\", \"Greta Thunberg:\n",
      "Environmentalism\", \"Modern dilemma: Ambition vs. responsibility\"]\n"
     ]
    }
   ],
   "source": [
    "print(textwrap.fill(promptTracker.llm_responses[1][1], width=100))"
   ]
  },
  {
   "cell_type": "code",
   "execution_count": null,
   "metadata": {},
   "outputs": [],
   "source": []
  }
 ],
 "metadata": {
  "kernelspec": {
   "display_name": "refiner",
   "language": "python",
   "name": "python3"
  },
  "language_info": {
   "codemirror_mode": {
    "name": "ipython",
    "version": 3
   },
   "file_extension": ".py",
   "mimetype": "text/x-python",
   "name": "python",
   "nbconvert_exporter": "python",
   "pygments_lexer": "ipython3",
   "version": "3.10.14"
  }
 },
 "nbformat": 4,
 "nbformat_minor": 2
}
